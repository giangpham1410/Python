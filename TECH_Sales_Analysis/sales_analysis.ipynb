{
 "cells": [
  {
   "cell_type": "markdown",
   "id": "63944c02-d5f7-4c5b-bc0b-2c599e05a0de",
   "metadata": {
    "tags": []
   },
   "source": [
    "## Import libraries"
   ]
  },
  {
   "cell_type": "code",
   "execution_count": 29,
   "id": "2c7b3d62-4068-47a5-b7bf-4b8e9be341bf",
   "metadata": {},
   "outputs": [],
   "source": [
    "import pandas as pd\n",
    "import numpy as np\n",
    "import matplotlib.pyplot as plt\n",
    "import seaborn as sns\n",
    "import os"
   ]
  },
  {
   "cell_type": "markdown",
   "id": "1e2881e8-1ae0-4c60-97b1-720c262c7c5e",
   "metadata": {},
   "source": [
    "## Merging 12 months of sales data to a single csv file"
   ]
  },
  {
   "cell_type": "code",
   "execution_count": 30,
   "id": "f137d88a-1c2a-42b5-b104-35964011a25a",
   "metadata": {},
   "outputs": [],
   "source": [
    "df = pd.read_csv('./Sales_Data/Sales_April_2019.csv')\n",
    "\n",
    "files = [file for file in os.listdir('./Sales_Data')]\n",
    "\n",
    "all_months_data = pd.DataFrame()\n",
    "\n",
    "for file in files:\n",
    "    df = pd.read_csv('./Sales_Data/'+file)\n",
    "    all_months_data = pd.concat([all_months_data, df])\n",
    "\n",
    "all_months_data.to_csv('all_data.csv', index=False)"
   ]
  },
  {
   "cell_type": "code",
   "execution_count": 31,
   "id": "a9917554-60e3-479f-b053-34ce77870581",
   "metadata": {},
   "outputs": [
    {
     "data": {
      "text/html": [
       "<div>\n",
       "<style scoped>\n",
       "    .dataframe tbody tr th:only-of-type {\n",
       "        vertical-align: middle;\n",
       "    }\n",
       "\n",
       "    .dataframe tbody tr th {\n",
       "        vertical-align: top;\n",
       "    }\n",
       "\n",
       "    .dataframe thead th {\n",
       "        text-align: right;\n",
       "    }\n",
       "</style>\n",
       "<table border=\"1\" class=\"dataframe\">\n",
       "  <thead>\n",
       "    <tr style=\"text-align: right;\">\n",
       "      <th></th>\n",
       "      <th>Order ID</th>\n",
       "      <th>Product</th>\n",
       "      <th>Quantity Ordered</th>\n",
       "      <th>Price Each</th>\n",
       "      <th>Order Date</th>\n",
       "      <th>Purchase Address</th>\n",
       "    </tr>\n",
       "  </thead>\n",
       "  <tbody>\n",
       "    <tr>\n",
       "      <th>0</th>\n",
       "      <td>141234</td>\n",
       "      <td>iPhone</td>\n",
       "      <td>1</td>\n",
       "      <td>700</td>\n",
       "      <td>01/22/19 21:25</td>\n",
       "      <td>944 Walnut St, Boston, MA 02215</td>\n",
       "    </tr>\n",
       "    <tr>\n",
       "      <th>1</th>\n",
       "      <td>141235</td>\n",
       "      <td>Lightning Charging Cable</td>\n",
       "      <td>1</td>\n",
       "      <td>14.95</td>\n",
       "      <td>01/28/19 14:15</td>\n",
       "      <td>185 Maple St, Portland, OR 97035</td>\n",
       "    </tr>\n",
       "    <tr>\n",
       "      <th>2</th>\n",
       "      <td>141236</td>\n",
       "      <td>Wired Headphones</td>\n",
       "      <td>2</td>\n",
       "      <td>11.99</td>\n",
       "      <td>01/17/19 13:33</td>\n",
       "      <td>538 Adams St, San Francisco, CA 94016</td>\n",
       "    </tr>\n",
       "    <tr>\n",
       "      <th>3</th>\n",
       "      <td>141237</td>\n",
       "      <td>27in FHD Monitor</td>\n",
       "      <td>1</td>\n",
       "      <td>149.99</td>\n",
       "      <td>01/05/19 20:33</td>\n",
       "      <td>738 10th St, Los Angeles, CA 90001</td>\n",
       "    </tr>\n",
       "    <tr>\n",
       "      <th>4</th>\n",
       "      <td>141238</td>\n",
       "      <td>Wired Headphones</td>\n",
       "      <td>1</td>\n",
       "      <td>11.99</td>\n",
       "      <td>01/25/19 11:59</td>\n",
       "      <td>387 10th St, Austin, TX 73301</td>\n",
       "    </tr>\n",
       "    <tr>\n",
       "      <th>...</th>\n",
       "      <td>...</td>\n",
       "      <td>...</td>\n",
       "      <td>...</td>\n",
       "      <td>...</td>\n",
       "      <td>...</td>\n",
       "      <td>...</td>\n",
       "    </tr>\n",
       "    <tr>\n",
       "      <th>12567</th>\n",
       "      <td>NaN</td>\n",
       "      <td>NaN</td>\n",
       "      <td>NaN</td>\n",
       "      <td>NaN</td>\n",
       "      <td>NaN</td>\n",
       "      <td>NaN</td>\n",
       "    </tr>\n",
       "    <tr>\n",
       "      <th>12640</th>\n",
       "      <td>NaN</td>\n",
       "      <td>NaN</td>\n",
       "      <td>NaN</td>\n",
       "      <td>NaN</td>\n",
       "      <td>NaN</td>\n",
       "      <td>NaN</td>\n",
       "    </tr>\n",
       "    <tr>\n",
       "      <th>12659</th>\n",
       "      <td>NaN</td>\n",
       "      <td>NaN</td>\n",
       "      <td>NaN</td>\n",
       "      <td>NaN</td>\n",
       "      <td>NaN</td>\n",
       "      <td>NaN</td>\n",
       "    </tr>\n",
       "    <tr>\n",
       "      <th>12732</th>\n",
       "      <td>NaN</td>\n",
       "      <td>NaN</td>\n",
       "      <td>NaN</td>\n",
       "      <td>NaN</td>\n",
       "      <td>NaN</td>\n",
       "      <td>NaN</td>\n",
       "    </tr>\n",
       "    <tr>\n",
       "      <th>13352</th>\n",
       "      <td>NaN</td>\n",
       "      <td>NaN</td>\n",
       "      <td>NaN</td>\n",
       "      <td>NaN</td>\n",
       "      <td>NaN</td>\n",
       "      <td>NaN</td>\n",
       "    </tr>\n",
       "  </tbody>\n",
       "</table>\n",
       "<p>186850 rows × 6 columns</p>\n",
       "</div>"
      ],
      "text/plain": [
       "      Order ID                   Product Quantity Ordered Price Each  \\\n",
       "0       141234                    iPhone                1        700   \n",
       "1       141235  Lightning Charging Cable                1      14.95   \n",
       "2       141236          Wired Headphones                2      11.99   \n",
       "3       141237          27in FHD Monitor                1     149.99   \n",
       "4       141238          Wired Headphones                1      11.99   \n",
       "...        ...                       ...              ...        ...   \n",
       "12567      NaN                       NaN              NaN        NaN   \n",
       "12640      NaN                       NaN              NaN        NaN   \n",
       "12659      NaN                       NaN              NaN        NaN   \n",
       "12732      NaN                       NaN              NaN        NaN   \n",
       "13352      NaN                       NaN              NaN        NaN   \n",
       "\n",
       "           Order Date                       Purchase Address  \n",
       "0      01/22/19 21:25        944 Walnut St, Boston, MA 02215  \n",
       "1      01/28/19 14:15       185 Maple St, Portland, OR 97035  \n",
       "2      01/17/19 13:33  538 Adams St, San Francisco, CA 94016  \n",
       "3      01/05/19 20:33     738 10th St, Los Angeles, CA 90001  \n",
       "4      01/25/19 11:59          387 10th St, Austin, TX 73301  \n",
       "...               ...                                    ...  \n",
       "12567             NaN                                    NaN  \n",
       "12640             NaN                                    NaN  \n",
       "12659             NaN                                    NaN  \n",
       "12732             NaN                                    NaN  \n",
       "13352             NaN                                    NaN  \n",
       "\n",
       "[186850 rows x 6 columns]"
      ]
     },
     "execution_count": 31,
     "metadata": {},
     "output_type": "execute_result"
    }
   ],
   "source": [
    "all_months_data.sort_values(by=['Order ID'])"
   ]
  },
  {
   "cell_type": "code",
   "execution_count": 32,
   "id": "144eaf33-a1ff-4be4-917b-e1e4615f6b7e",
   "metadata": {},
   "outputs": [
    {
     "data": {
      "text/html": [
       "<div>\n",
       "<style scoped>\n",
       "    .dataframe tbody tr th:only-of-type {\n",
       "        vertical-align: middle;\n",
       "    }\n",
       "\n",
       "    .dataframe tbody tr th {\n",
       "        vertical-align: top;\n",
       "    }\n",
       "\n",
       "    .dataframe thead th {\n",
       "        text-align: right;\n",
       "    }\n",
       "</style>\n",
       "<table border=\"1\" class=\"dataframe\">\n",
       "  <thead>\n",
       "    <tr style=\"text-align: right;\">\n",
       "      <th></th>\n",
       "      <th>Order ID</th>\n",
       "      <th>Product</th>\n",
       "      <th>Quantity Ordered</th>\n",
       "      <th>Price Each</th>\n",
       "      <th>Order Date</th>\n",
       "      <th>Purchase Address</th>\n",
       "    </tr>\n",
       "  </thead>\n",
       "  <tbody>\n",
       "    <tr>\n",
       "      <th>0</th>\n",
       "      <td>295665</td>\n",
       "      <td>Macbook Pro Laptop</td>\n",
       "      <td>1</td>\n",
       "      <td>1700</td>\n",
       "      <td>12/30/19 00:01</td>\n",
       "      <td>136 Church St, New York City, NY 10001</td>\n",
       "    </tr>\n",
       "    <tr>\n",
       "      <th>1</th>\n",
       "      <td>295666</td>\n",
       "      <td>LG Washing Machine</td>\n",
       "      <td>1</td>\n",
       "      <td>600.0</td>\n",
       "      <td>12/29/19 07:03</td>\n",
       "      <td>562 2nd St, New York City, NY 10001</td>\n",
       "    </tr>\n",
       "    <tr>\n",
       "      <th>2</th>\n",
       "      <td>295667</td>\n",
       "      <td>USB-C Charging Cable</td>\n",
       "      <td>1</td>\n",
       "      <td>11.95</td>\n",
       "      <td>12/12/19 18:21</td>\n",
       "      <td>277 Main St, New York City, NY 10001</td>\n",
       "    </tr>\n",
       "    <tr>\n",
       "      <th>3</th>\n",
       "      <td>295668</td>\n",
       "      <td>27in FHD Monitor</td>\n",
       "      <td>1</td>\n",
       "      <td>149.99</td>\n",
       "      <td>12/22/19 15:13</td>\n",
       "      <td>410 6th St, San Francisco, CA 94016</td>\n",
       "    </tr>\n",
       "    <tr>\n",
       "      <th>4</th>\n",
       "      <td>295669</td>\n",
       "      <td>USB-C Charging Cable</td>\n",
       "      <td>1</td>\n",
       "      <td>11.95</td>\n",
       "      <td>12/18/19 12:38</td>\n",
       "      <td>43 Hill St, Atlanta, GA 30301</td>\n",
       "    </tr>\n",
       "  </tbody>\n",
       "</table>\n",
       "</div>"
      ],
      "text/plain": [
       "  Order ID               Product Quantity Ordered Price Each      Order Date  \\\n",
       "0   295665    Macbook Pro Laptop                1       1700  12/30/19 00:01   \n",
       "1   295666    LG Washing Machine                1      600.0  12/29/19 07:03   \n",
       "2   295667  USB-C Charging Cable                1      11.95  12/12/19 18:21   \n",
       "3   295668      27in FHD Monitor                1     149.99  12/22/19 15:13   \n",
       "4   295669  USB-C Charging Cable                1      11.95  12/18/19 12:38   \n",
       "\n",
       "                         Purchase Address  \n",
       "0  136 Church St, New York City, NY 10001  \n",
       "1     562 2nd St, New York City, NY 10001  \n",
       "2    277 Main St, New York City, NY 10001  \n",
       "3     410 6th St, San Francisco, CA 94016  \n",
       "4           43 Hill St, Atlanta, GA 30301  "
      ]
     },
     "execution_count": 32,
     "metadata": {},
     "output_type": "execute_result"
    }
   ],
   "source": [
    "all_months_data.head()"
   ]
  },
  {
   "cell_type": "code",
   "execution_count": 33,
   "id": "9744de24-5ec2-4592-a53b-b8d3d9efeb5b",
   "metadata": {},
   "outputs": [
    {
     "data": {
      "text/html": [
       "<div>\n",
       "<style scoped>\n",
       "    .dataframe tbody tr th:only-of-type {\n",
       "        vertical-align: middle;\n",
       "    }\n",
       "\n",
       "    .dataframe tbody tr th {\n",
       "        vertical-align: top;\n",
       "    }\n",
       "\n",
       "    .dataframe thead th {\n",
       "        text-align: right;\n",
       "    }\n",
       "</style>\n",
       "<table border=\"1\" class=\"dataframe\">\n",
       "  <thead>\n",
       "    <tr style=\"text-align: right;\">\n",
       "      <th></th>\n",
       "      <th>Order ID</th>\n",
       "      <th>Product</th>\n",
       "      <th>Quantity Ordered</th>\n",
       "      <th>Price Each</th>\n",
       "      <th>Order Date</th>\n",
       "      <th>Purchase Address</th>\n",
       "    </tr>\n",
       "  </thead>\n",
       "  <tbody>\n",
       "    <tr>\n",
       "      <th>13617</th>\n",
       "      <td>222905</td>\n",
       "      <td>AAA Batteries (4-pack)</td>\n",
       "      <td>1</td>\n",
       "      <td>2.99</td>\n",
       "      <td>06/07/19 19:02</td>\n",
       "      <td>795 Pine St, Boston, MA 02215</td>\n",
       "    </tr>\n",
       "    <tr>\n",
       "      <th>13618</th>\n",
       "      <td>222906</td>\n",
       "      <td>27in FHD Monitor</td>\n",
       "      <td>1</td>\n",
       "      <td>149.99</td>\n",
       "      <td>06/01/19 19:29</td>\n",
       "      <td>495 North St, New York City, NY 10001</td>\n",
       "    </tr>\n",
       "    <tr>\n",
       "      <th>13619</th>\n",
       "      <td>222907</td>\n",
       "      <td>USB-C Charging Cable</td>\n",
       "      <td>1</td>\n",
       "      <td>11.95</td>\n",
       "      <td>06/22/19 18:57</td>\n",
       "      <td>319 Ridge St, San Francisco, CA 94016</td>\n",
       "    </tr>\n",
       "    <tr>\n",
       "      <th>13620</th>\n",
       "      <td>222908</td>\n",
       "      <td>USB-C Charging Cable</td>\n",
       "      <td>1</td>\n",
       "      <td>11.95</td>\n",
       "      <td>06/26/19 18:35</td>\n",
       "      <td>916 Main St, San Francisco, CA 94016</td>\n",
       "    </tr>\n",
       "    <tr>\n",
       "      <th>13621</th>\n",
       "      <td>222909</td>\n",
       "      <td>AAA Batteries (4-pack)</td>\n",
       "      <td>1</td>\n",
       "      <td>2.99</td>\n",
       "      <td>06/25/19 14:33</td>\n",
       "      <td>209 11th St, Atlanta, GA 30301</td>\n",
       "    </tr>\n",
       "  </tbody>\n",
       "</table>\n",
       "</div>"
      ],
      "text/plain": [
       "      Order ID                 Product Quantity Ordered Price Each  \\\n",
       "13617   222905  AAA Batteries (4-pack)                1       2.99   \n",
       "13618   222906        27in FHD Monitor                1     149.99   \n",
       "13619   222907    USB-C Charging Cable                1      11.95   \n",
       "13620   222908    USB-C Charging Cable                1      11.95   \n",
       "13621   222909  AAA Batteries (4-pack)                1       2.99   \n",
       "\n",
       "           Order Date                       Purchase Address  \n",
       "13617  06/07/19 19:02          795 Pine St, Boston, MA 02215  \n",
       "13618  06/01/19 19:29  495 North St, New York City, NY 10001  \n",
       "13619  06/22/19 18:57  319 Ridge St, San Francisco, CA 94016  \n",
       "13620  06/26/19 18:35   916 Main St, San Francisco, CA 94016  \n",
       "13621  06/25/19 14:33         209 11th St, Atlanta, GA 30301  "
      ]
     },
     "execution_count": 33,
     "metadata": {},
     "output_type": "execute_result"
    }
   ],
   "source": [
    "all_months_data.tail()"
   ]
  },
  {
   "cell_type": "markdown",
   "id": "032b0a50-cfb6-4b08-b114-e067b41baa58",
   "metadata": {},
   "source": [
    "## Read in updated dataframe"
   ]
  },
  {
   "cell_type": "code",
   "execution_count": 34,
   "id": "a41f29aa-1b4e-4137-9063-449b90e8d489",
   "metadata": {},
   "outputs": [
    {
     "data": {
      "text/html": [
       "<div>\n",
       "<style scoped>\n",
       "    .dataframe tbody tr th:only-of-type {\n",
       "        vertical-align: middle;\n",
       "    }\n",
       "\n",
       "    .dataframe tbody tr th {\n",
       "        vertical-align: top;\n",
       "    }\n",
       "\n",
       "    .dataframe thead th {\n",
       "        text-align: right;\n",
       "    }\n",
       "</style>\n",
       "<table border=\"1\" class=\"dataframe\">\n",
       "  <thead>\n",
       "    <tr style=\"text-align: right;\">\n",
       "      <th></th>\n",
       "      <th>Order ID</th>\n",
       "      <th>Product</th>\n",
       "      <th>Quantity Ordered</th>\n",
       "      <th>Price Each</th>\n",
       "      <th>Order Date</th>\n",
       "      <th>Purchase Address</th>\n",
       "    </tr>\n",
       "  </thead>\n",
       "  <tbody>\n",
       "    <tr>\n",
       "      <th>0</th>\n",
       "      <td>295665</td>\n",
       "      <td>Macbook Pro Laptop</td>\n",
       "      <td>1</td>\n",
       "      <td>1700</td>\n",
       "      <td>12/30/19 00:01</td>\n",
       "      <td>136 Church St, New York City, NY 10001</td>\n",
       "    </tr>\n",
       "    <tr>\n",
       "      <th>1</th>\n",
       "      <td>295666</td>\n",
       "      <td>LG Washing Machine</td>\n",
       "      <td>1</td>\n",
       "      <td>600.0</td>\n",
       "      <td>12/29/19 07:03</td>\n",
       "      <td>562 2nd St, New York City, NY 10001</td>\n",
       "    </tr>\n",
       "    <tr>\n",
       "      <th>2</th>\n",
       "      <td>295667</td>\n",
       "      <td>USB-C Charging Cable</td>\n",
       "      <td>1</td>\n",
       "      <td>11.95</td>\n",
       "      <td>12/12/19 18:21</td>\n",
       "      <td>277 Main St, New York City, NY 10001</td>\n",
       "    </tr>\n",
       "    <tr>\n",
       "      <th>3</th>\n",
       "      <td>295668</td>\n",
       "      <td>27in FHD Monitor</td>\n",
       "      <td>1</td>\n",
       "      <td>149.99</td>\n",
       "      <td>12/22/19 15:13</td>\n",
       "      <td>410 6th St, San Francisco, CA 94016</td>\n",
       "    </tr>\n",
       "    <tr>\n",
       "      <th>4</th>\n",
       "      <td>295669</td>\n",
       "      <td>USB-C Charging Cable</td>\n",
       "      <td>1</td>\n",
       "      <td>11.95</td>\n",
       "      <td>12/18/19 12:38</td>\n",
       "      <td>43 Hill St, Atlanta, GA 30301</td>\n",
       "    </tr>\n",
       "  </tbody>\n",
       "</table>\n",
       "</div>"
      ],
      "text/plain": [
       "  Order ID               Product Quantity Ordered Price Each      Order Date  \\\n",
       "0   295665    Macbook Pro Laptop                1       1700  12/30/19 00:01   \n",
       "1   295666    LG Washing Machine                1      600.0  12/29/19 07:03   \n",
       "2   295667  USB-C Charging Cable                1      11.95  12/12/19 18:21   \n",
       "3   295668      27in FHD Monitor                1     149.99  12/22/19 15:13   \n",
       "4   295669  USB-C Charging Cable                1      11.95  12/18/19 12:38   \n",
       "\n",
       "                         Purchase Address  \n",
       "0  136 Church St, New York City, NY 10001  \n",
       "1     562 2nd St, New York City, NY 10001  \n",
       "2    277 Main St, New York City, NY 10001  \n",
       "3     410 6th St, San Francisco, CA 94016  \n",
       "4           43 Hill St, Atlanta, GA 30301  "
      ]
     },
     "execution_count": 34,
     "metadata": {},
     "output_type": "execute_result"
    }
   ],
   "source": [
    "all_data = pd.read_csv('all_data.csv')\n",
    "\n",
    "all_data.head()"
   ]
  },
  {
   "cell_type": "code",
   "execution_count": 35,
   "id": "1ac5f151-b518-46c9-8ed2-b941d8419632",
   "metadata": {},
   "outputs": [
    {
     "data": {
      "text/html": [
       "<div>\n",
       "<style scoped>\n",
       "    .dataframe tbody tr th:only-of-type {\n",
       "        vertical-align: middle;\n",
       "    }\n",
       "\n",
       "    .dataframe tbody tr th {\n",
       "        vertical-align: top;\n",
       "    }\n",
       "\n",
       "    .dataframe thead th {\n",
       "        text-align: right;\n",
       "    }\n",
       "</style>\n",
       "<table border=\"1\" class=\"dataframe\">\n",
       "  <thead>\n",
       "    <tr style=\"text-align: right;\">\n",
       "      <th></th>\n",
       "      <th>Order ID</th>\n",
       "      <th>Product</th>\n",
       "      <th>Quantity Ordered</th>\n",
       "      <th>Price Each</th>\n",
       "      <th>Order Date</th>\n",
       "      <th>Purchase Address</th>\n",
       "    </tr>\n",
       "  </thead>\n",
       "  <tbody>\n",
       "    <tr>\n",
       "      <th>186845</th>\n",
       "      <td>222905</td>\n",
       "      <td>AAA Batteries (4-pack)</td>\n",
       "      <td>1</td>\n",
       "      <td>2.99</td>\n",
       "      <td>06/07/19 19:02</td>\n",
       "      <td>795 Pine St, Boston, MA 02215</td>\n",
       "    </tr>\n",
       "    <tr>\n",
       "      <th>186846</th>\n",
       "      <td>222906</td>\n",
       "      <td>27in FHD Monitor</td>\n",
       "      <td>1</td>\n",
       "      <td>149.99</td>\n",
       "      <td>06/01/19 19:29</td>\n",
       "      <td>495 North St, New York City, NY 10001</td>\n",
       "    </tr>\n",
       "    <tr>\n",
       "      <th>186847</th>\n",
       "      <td>222907</td>\n",
       "      <td>USB-C Charging Cable</td>\n",
       "      <td>1</td>\n",
       "      <td>11.95</td>\n",
       "      <td>06/22/19 18:57</td>\n",
       "      <td>319 Ridge St, San Francisco, CA 94016</td>\n",
       "    </tr>\n",
       "    <tr>\n",
       "      <th>186848</th>\n",
       "      <td>222908</td>\n",
       "      <td>USB-C Charging Cable</td>\n",
       "      <td>1</td>\n",
       "      <td>11.95</td>\n",
       "      <td>06/26/19 18:35</td>\n",
       "      <td>916 Main St, San Francisco, CA 94016</td>\n",
       "    </tr>\n",
       "    <tr>\n",
       "      <th>186849</th>\n",
       "      <td>222909</td>\n",
       "      <td>AAA Batteries (4-pack)</td>\n",
       "      <td>1</td>\n",
       "      <td>2.99</td>\n",
       "      <td>06/25/19 14:33</td>\n",
       "      <td>209 11th St, Atlanta, GA 30301</td>\n",
       "    </tr>\n",
       "  </tbody>\n",
       "</table>\n",
       "</div>"
      ],
      "text/plain": [
       "       Order ID                 Product Quantity Ordered Price Each  \\\n",
       "186845   222905  AAA Batteries (4-pack)                1       2.99   \n",
       "186846   222906        27in FHD Monitor                1     149.99   \n",
       "186847   222907    USB-C Charging Cable                1      11.95   \n",
       "186848   222908    USB-C Charging Cable                1      11.95   \n",
       "186849   222909  AAA Batteries (4-pack)                1       2.99   \n",
       "\n",
       "            Order Date                       Purchase Address  \n",
       "186845  06/07/19 19:02          795 Pine St, Boston, MA 02215  \n",
       "186846  06/01/19 19:29  495 North St, New York City, NY 10001  \n",
       "186847  06/22/19 18:57  319 Ridge St, San Francisco, CA 94016  \n",
       "186848  06/26/19 18:35   916 Main St, San Francisco, CA 94016  \n",
       "186849  06/25/19 14:33         209 11th St, Atlanta, GA 30301  "
      ]
     },
     "execution_count": 35,
     "metadata": {},
     "output_type": "execute_result"
    }
   ],
   "source": [
    "all_data.tail()"
   ]
  },
  {
   "cell_type": "markdown",
   "id": "43141dbe-8361-489c-8cd4-e0ca26c1b3c9",
   "metadata": {},
   "source": [
    "## Cleaning data"
   ]
  },
  {
   "cell_type": "code",
   "execution_count": 36,
   "id": "ffe2e4a4-a693-4247-82e7-17c69ccfd0c1",
   "metadata": {},
   "outputs": [
    {
     "data": {
      "text/plain": [
       "Order ID            545\n",
       "Product             545\n",
       "Quantity Ordered    545\n",
       "Price Each          545\n",
       "Order Date          545\n",
       "Purchase Address    545\n",
       "dtype: int64"
      ]
     },
     "execution_count": 36,
     "metadata": {},
     "output_type": "execute_result"
    }
   ],
   "source": [
    "# checking missing values\n",
    "all_data.isnull().sum()"
   ]
  },
  {
   "cell_type": "code",
   "execution_count": null,
   "id": "ef31ee4d-6dc9-463c-a21b-792108ce67a1",
   "metadata": {},
   "outputs": [],
   "source": [
    "# drop NAN rows\n",
    "\n",
    "nan_df = all_data[all_data.isna().any(axis=1)] # show nan data\n",
    "nan_df.head()\n",
    "\n",
    "all_data = all_data.dropna(how='all') # drop nan rows\n",
    "all_data.head()"
   ]
  },
  {
   "cell_type": "code",
   "execution_count": null,
   "id": "ac7b7507-5f2a-4773-b01d-9b8c781bdc75",
   "metadata": {},
   "outputs": [],
   "source": [
    "# find 'Or' and delete them\n",
    "all_data = all_data[all_data['Order Date'].str[0:2] != 'Or']"
   ]
  },
  {
   "cell_type": "code",
   "execution_count": null,
   "id": "a03c7884-346a-4831-9bc5-dc36ce815a50",
   "metadata": {},
   "outputs": [],
   "source": [
    "# convert columns to correct type\n",
    "\n",
    "all_data['Quantity Ordered'] = pd.to_numeric(all_data['Quantity Ordered'])\n",
    "all_data['Price Each'] = pd.to_numeric(all_data['Price Each'])"
   ]
  },
  {
   "cell_type": "markdown",
   "id": "19371101-67c1-45b6-8871-7e597147e24d",
   "metadata": {
    "tags": []
   },
   "source": [
    "## Adding columns"
   ]
  },
  {
   "cell_type": "code",
   "execution_count": null,
   "id": "fe032b3f-5ef6-4a8b-bf19-2d1cf6386297",
   "metadata": {},
   "outputs": [],
   "source": [
    "# add month column\n",
    "\n",
    "all_data['Month'] = all_data['Order Date'].str[0:2]\n",
    "all_data['Month'] = all_data['Month'].astype('int32')\n",
    "all_data.head()"
   ]
  },
  {
   "cell_type": "code",
   "execution_count": null,
   "id": "a0eee786-6248-493a-8ce3-8bbb82703ac1",
   "metadata": {},
   "outputs": [],
   "source": [
    "# add sales column = price_each * quantity_ordered\n",
    "\n",
    "all_data['Sales'] = all_data['Price Each'] * all_data['Quantity Ordered']\n",
    "\n",
    "all_data"
   ]
  },
  {
   "cell_type": "code",
   "execution_count": null,
   "id": "bc468f2f-68a8-4008-831d-792246befb11",
   "metadata": {},
   "outputs": [],
   "source": [
    "# add state column\n",
    "\n",
    "all_data['State'] = (all_data['Purchase Address'].str[-8:]).str[:2]\n",
    "all_data"
   ]
  },
  {
   "cell_type": "code",
   "execution_count": null,
   "id": "58b60ff0-6b88-455a-9344-39cd5ec3ed3d",
   "metadata": {},
   "outputs": [],
   "source": [
    "# add city columns\n",
    "def get_city(address):\n",
    "    return address.split(',')[1]\n",
    "\n",
    "def get_state(address):\n",
    "    return address.split(',')[2].split(' ')[1]\n",
    "\n",
    "\n",
    "all_data['City'] = all_data['Purchase Address'].apply(lambda x: f'{get_city(x)} ({get_state(x)})')\n",
    "# all_data = all_data.drop(columns = 'Column', inplace = True)\n",
    "all_data.head(10)"
   ]
  },
  {
   "cell_type": "markdown",
   "id": "dc993735-2207-410c-a285-9936e1a373d5",
   "metadata": {},
   "source": [
    "## Analysis"
   ]
  },
  {
   "cell_type": "markdown",
   "id": "72cfa5cb-5c69-46ff-9eba-4419da683ccf",
   "metadata": {},
   "source": [
    "### 1. What was the best month for sales? How much was earned that month?"
   ]
  },
  {
   "cell_type": "code",
   "execution_count": null,
   "id": "7f389f62-84cb-4ce3-93d6-9fdac40e9199",
   "metadata": {},
   "outputs": [],
   "source": [
    "results = all_data.groupby('Month').sum()\n",
    "results\n",
    "\n",
    "# if only get Qty_ordered and sales: all_data.groupby('Month').sum()[['Quantity Ordered', 'Sales']]"
   ]
  },
  {
   "cell_type": "code",
   "execution_count": null,
   "id": "156a1b68-5e13-4842-bbd0-334aace466a5",
   "metadata": {},
   "outputs": [],
   "source": [
    "months = range(1, 13)\n",
    "\n",
    "plt.plot(months, results['Sales'])\n",
    "plt.xticks(months)\n",
    "plt.ylabel('Sales in Million USD ($)')\n",
    "plt.xlabel('Month')\n",
    "plt.show()"
   ]
  },
  {
   "cell_type": "markdown",
   "id": "2479572e-a696-4a2a-ae43-eb66631171e3",
   "metadata": {},
   "source": [
    "#### December was the best month for sales. This montn earned 4.6 Million Dollars."
   ]
  },
  {
   "cell_type": "markdown",
   "id": "7f7e23a1-3d66-48ac-a506-537d8ac6670e",
   "metadata": {},
   "source": [
    "### 2. What city had the highest number of sales?"
   ]
  },
  {
   "cell_type": "code",
   "execution_count": null,
   "id": "da9c6822-e703-4682-9d67-2206dd8e4ca6",
   "metadata": {},
   "outputs": [],
   "source": [
    "results_sorted = all_data.groupby('City').sum()[['Quantity Ordered', 'Sales']].sort_values(['Sales'], ascending = False)\n",
    "results_sorted"
   ]
  },
  {
   "cell_type": "code",
   "execution_count": null,
   "id": "86b14f03-dc19-42ee-9c1a-8a0f849c1aa5",
   "metadata": {},
   "outputs": [],
   "source": [
    "all_data.groupby(['City']).sum()['Sales'].sort_values(ascending=True).plot.barh(figsize = (10,5))"
   ]
  },
  {
   "cell_type": "markdown",
   "id": "0054ffaf-1517-4c93-81b0-36b1d8c0ad83",
   "metadata": {},
   "source": [
    "#### San Francisco had the highest number of sales: 8.3 Million Dollars."
   ]
  },
  {
   "cell_type": "markdown",
   "id": "b8bc20e8-bafe-4d26-afb2-0959ea50f34e",
   "metadata": {},
   "source": [
    "### 3. What time should we display advertisements to maximize the likelihood of customers buying products?"
   ]
  },
  {
   "cell_type": "code",
   "execution_count": null,
   "id": "02c1d642-399f-4303-9ba7-ff9cedbb66a0",
   "metadata": {},
   "outputs": [],
   "source": [
    "# convert Order Date to datetime column\n",
    "\n",
    "all_data['Order Date'] = pd.to_datetime(all_data['Order Date'])"
   ]
  },
  {
   "cell_type": "code",
   "execution_count": null,
   "id": "235e8731-8206-4cc7-8590-035da9dc08c3",
   "metadata": {},
   "outputs": [],
   "source": [
    "# add hour, minute, day name columns\n",
    "\n",
    "all_data['Hour'] = all_data['Order Date'].dt.hour\n",
    "all_data['Minute'] = all_data['Order Date'].dt.minute\n",
    "all_data['Weekday'] = all_data['Order Date'].dt.day_name().str[:3]\n",
    "\n",
    "all_data.head()"
   ]
  },
  {
   "cell_type": "code",
   "execution_count": null,
   "id": "23f5d971-ad96-4488-a85b-cf6ef054e680",
   "metadata": {},
   "outputs": [],
   "source": [
    "hours = [hour for hour, df in all_data.groupby('Hour')]\n",
    "\n",
    "plt.plot(hours, all_data.groupby(['Hour']).count())\n",
    "plt.xticks(hours)\n",
    "plt.xlabel('Hour')\n",
    "plt.ylabel('Number of Orders')\n",
    "plt.grid()\n",
    "\n",
    "plt.show()"
   ]
  },
  {
   "cell_type": "code",
   "execution_count": null,
   "id": "ab51e0dc-31ac-4393-bb37-aab1328218e0",
   "metadata": {},
   "outputs": [],
   "source": [
    "# Recommendation: around 12PM and 7PM"
   ]
  },
  {
   "cell_type": "code",
   "execution_count": null,
   "id": "8bb80ef6-dc49-47c0-a2f5-0dcbdcb0544a",
   "metadata": {},
   "outputs": [],
   "source": [
    "restr_data = all_data.groupby(['Hour', 'Weekday']).mean()['Sales'].unstack() # mean is wrong, correct is sum\n",
    "restr_data = restr_data[['Mon', 'Tue', 'Wed', 'Thu', 'Fri', 'Sat', 'Sun']]\n",
    "\n",
    "restr_data"
   ]
  },
  {
   "cell_type": "code",
   "execution_count": null,
   "id": "517d1110-f078-419e-98c9-d19605aebcc6",
   "metadata": {},
   "outputs": [],
   "source": [
    "plt.figure(figsize = (10, 10))\n",
    "sns.heatmap(restr_data, cmap=\"YlGnBu\")"
   ]
  },
  {
   "cell_type": "markdown",
   "id": "1a37d269-c5ec-478f-900e-09a23ea6a2d0",
   "metadata": {},
   "source": [
    "### 4. What products are most often sold together?"
   ]
  },
  {
   "cell_type": "code",
   "execution_count": null,
   "id": "b5569f1d-bb03-4054-8ebf-c00276db5d5c",
   "metadata": {},
   "outputs": [],
   "source": [
    "df.info()"
   ]
  },
  {
   "cell_type": "code",
   "execution_count": null,
   "id": "711d6238-01e7-4fcb-9bf0-53fe7c1e6a8b",
   "metadata": {},
   "outputs": [],
   "source": [
    "df = all_data[all_data['Order ID'].duplicated(keep=False)]\n",
    "\n",
    "df['Grouped'] = df.groupby('Order ID')['Product'].transform(lambda x: ','.join(x))\n",
    "\n",
    "df = df[['Order ID', 'Grouped']].drop_duplicates()\n",
    "\n",
    "df.head(10)"
   ]
  },
  {
   "cell_type": "code",
   "execution_count": null,
   "id": "336f4051-a075-44d1-be43-20613b9be59b",
   "metadata": {},
   "outputs": [],
   "source": [
    "from itertools import combinations\n",
    "from collections import Counter"
   ]
  },
  {
   "cell_type": "code",
   "execution_count": null,
   "id": "f3452b7a-542a-4ed2-be4e-fee58eed2f46",
   "metadata": {},
   "outputs": [],
   "source": [
    "count = Counter()\n",
    "\n",
    "for row in df['Grouped']:\n",
    "    row_list = row.split(',')\n",
    "    count.update(Counter(combinations(row_list, 2))) # replace 2 to 3 to see different result\n",
    "    \n",
    "for i, value in count.most_common(10):\n",
    "    print(i, value)"
   ]
  },
  {
   "cell_type": "markdown",
   "id": "26b7e3d9-7bf7-43f8-b9cf-bd6801ae999a",
   "metadata": {},
   "source": [
    "### 5. What products sold the most?"
   ]
  },
  {
   "cell_type": "code",
   "execution_count": null,
   "id": "729c470d-8b0d-4710-b892-197f713e30b9",
   "metadata": {},
   "outputs": [],
   "source": [
    "all_data.groupby(['Product']).sum()['Quantity Ordered'].sort_values(ascending=True).plot.barh(figsize = (10,5))"
   ]
  },
  {
   "cell_type": "code",
   "execution_count": null,
   "id": "63ce6313-452a-4713-b675-2f56f6454637",
   "metadata": {},
   "outputs": [],
   "source": [
    "# product_group = all_data.groupby('Product')\n",
    "# quantity_ordered = product_group.sum()['Quantity Ordered']\n",
    "\n",
    "# products = [product for product, df in product_group]\n",
    "\n",
    "# plt.bar(products, quantity_ordered)\n",
    "# plt.xticks(products, rotation = 'vertical', size = 8)\n",
    "# plt.ylabel('Quantity Ordered')\n",
    "# plt.xlabel('Product')\n",
    "# plt.show()"
   ]
  },
  {
   "cell_type": "code",
   "execution_count": null,
   "id": "6865ab38-404a-4fdf-a716-cc8746cf6cd5",
   "metadata": {},
   "outputs": [],
   "source": [
    "prices = all_data.groupby('Product').mean()['Price Each']\n",
    "\n",
    "fig, ax1 = plt.subplots()\n",
    "\n",
    "ax2 = ax1.twinx()\n",
    "ax1.bar(products, quantity_ordered, color = 'g')\n",
    "ax2.plot(products, prices, color='b')\n",
    "\n",
    "ax1.set_xticklabels(products, rotation = 'vertical', size = 8)\n",
    "ax1.set_xlabel('Product')\n",
    "ax1.set_ylabel('Quantity Ordered', color = 'g')\n",
    "ax2.set_ylabel('Price ($)', color='b')\n",
    "\n",
    "plt.show()"
   ]
  },
  {
   "cell_type": "markdown",
   "id": "d315cab6-0b9d-4d25-a180-9eacf3590e46",
   "metadata": {},
   "source": [
    "#### Thank you for taking a moment to review my project. [Click here](https://bit.ly/giangpham_portfolio) to view more."
   ]
  }
 ],
 "metadata": {
  "kernelspec": {
   "display_name": "Python 3 (ipykernel)",
   "language": "python",
   "name": "python3"
  },
  "language_info": {
   "codemirror_mode": {
    "name": "ipython",
    "version": 3
   },
   "file_extension": ".py",
   "mimetype": "text/x-python",
   "name": "python",
   "nbconvert_exporter": "python",
   "pygments_lexer": "ipython3",
   "version": "3.9.7"
  }
 },
 "nbformat": 4,
 "nbformat_minor": 5
}
